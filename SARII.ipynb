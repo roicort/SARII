{
 "cells": [
  {
   "cell_type": "markdown",
   "metadata": {},
   "source": [
    "# SARII"
   ]
  },
  {
   "cell_type": "code",
   "execution_count": null,
   "metadata": {},
   "outputs": [],
   "source": [
    "%matplotlib inline\n",
    "%reload_ext autoreload\n",
    "%autoreload 2"
   ]
  },
  {
   "cell_type": "code",
   "execution_count": null,
   "metadata": {},
   "outputs": [],
   "source": [
    "import fastai.basics as fai\n",
    "import fastai.text as ftxt\n",
    "import pandas as pd\n",
    "import numpy as np"
   ]
  },
  {
   "cell_type": "code",
   "execution_count": null,
   "metadata": {},
   "outputs": [],
   "source": [
    "import PIL\n",
    "import textwrap\n",
    "from PIL import ImageFont\n",
    "from PIL import Image\n",
    "from PIL import ImageDraw"
   ]
  },
  {
   "cell_type": "code",
   "execution_count": null,
   "metadata": {
    "scrolled": true
   },
   "outputs": [],
   "source": [
    "import urllib.request\n",
    "from wasabi import msg\n",
    "from autocorrect import Speller"
   ]
  },
  {
   "cell_type": "code",
   "execution_count": null,
   "metadata": {},
   "outputs": [],
   "source": [
    "import random\n",
    "import os\n",
    "import glob\n",
    "from unsplash.api import Api\n",
    "from unsplash.auth import Auth\n",
    "import matplotlib.pyplot as plt"
   ]
  },
  {
   "cell_type": "code",
   "execution_count": null,
   "metadata": {},
   "outputs": [],
   "source": [
    "import spacy\n",
    "from collections import Counter\n",
    "from string import punctuation\n",
    "from spacy import displacy"
   ]
  },
  {
   "cell_type": "markdown",
   "metadata": {},
   "source": [
    "## Data"
   ]
  },
  {
   "cell_type": "code",
   "execution_count": null,
   "metadata": {},
   "outputs": [],
   "source": [
    "df = pd.read_csv('allquotes.csv',header=None, names=['quote', 'author'])\n",
    "df = df.drop(['author'], axis=1)\n",
    "df = df.dropna()"
   ]
  },
  {
   "cell_type": "code",
   "execution_count": null,
   "metadata": {},
   "outputs": [],
   "source": [
    "df.head()"
   ]
  },
  {
   "cell_type": "code",
   "execution_count": null,
   "metadata": {},
   "outputs": [],
   "source": [
    "df['quote'] = df['quote'].str.lower()"
   ]
  },
  {
   "cell_type": "code",
   "execution_count": null,
   "metadata": {},
   "outputs": [],
   "source": [
    "df.head()"
   ]
  },
  {
   "cell_type": "code",
   "execution_count": null,
   "metadata": {},
   "outputs": [],
   "source": [
    "valid_pct = 0.1 #validation percent\n",
    "df = df.iloc[np.random.permutation(len(df))]\n",
    "cut = int(valid_pct * len(df)) + 1\n",
    "train_df, valid_df = df[cut:], df[:cut]"
   ]
  },
  {
   "cell_type": "code",
   "execution_count": null,
   "metadata": {},
   "outputs": [],
   "source": [
    "len(train_df), len(valid_df)"
   ]
  },
  {
   "cell_type": "code",
   "execution_count": null,
   "metadata": {},
   "outputs": [],
   "source": [
    "data_lm = ftxt.TextLMDataBunch.from_df('data', train_df, valid_df, text_cols='quote')"
   ]
  },
  {
   "cell_type": "markdown",
   "metadata": {},
   "source": [
    "## Langueaje Model"
   ]
  },
  {
   "cell_type": "code",
   "execution_count": null,
   "metadata": {},
   "outputs": [],
   "source": [
    "learn_lm = ftxt.language_model_learner(data_lm, ftxt.AWD_LSTM, pretrained=True)"
   ]
  },
  {
   "cell_type": "code",
   "execution_count": null,
   "metadata": {},
   "outputs": [],
   "source": [
    "learn_lm.lr_find(); learn_lm.recorder.plot(skip_end=15)"
   ]
  },
  {
   "cell_type": "code",
   "execution_count": null,
   "metadata": {},
   "outputs": [],
   "source": [
    "learn_lm.fit_one_cycle(20, 1e-2, moms=(0.8,0.7))"
   ]
  },
  {
   "cell_type": "code",
   "execution_count": null,
   "metadata": {},
   "outputs": [],
   "source": [
    "learn_lm.save(\"lm-20\")"
   ]
  },
  {
   "cell_type": "code",
   "execution_count": null,
   "metadata": {},
   "outputs": [],
   "source": [
    "learn_lm.save_encoder('lm-20-encoder')"
   ]
  },
  {
   "cell_type": "code",
   "execution_count": null,
   "metadata": {},
   "outputs": [],
   "source": [
    "learn_lm.unfreeze()"
   ]
  },
  {
   "cell_type": "code",
   "execution_count": null,
   "metadata": {},
   "outputs": [],
   "source": [
    "learn_lm.lr_find(); learn_lm.recorder.plot(skip_end=15)"
   ]
  },
  {
   "cell_type": "code",
   "execution_count": null,
   "metadata": {},
   "outputs": [],
   "source": [
    "learn_lm.fit_one_cycle(5, 1e-6, moms=(0.8,0.7))"
   ]
  },
  {
   "cell_type": "markdown",
   "metadata": {},
   "source": [
    "## Validate and Save"
   ]
  },
  {
   "cell_type": "code",
   "execution_count": null,
   "metadata": {},
   "outputs": [],
   "source": [
    "learn_lm.validate()"
   ]
  },
  {
   "cell_type": "code",
   "execution_count": null,
   "metadata": {},
   "outputs": [],
   "source": [
    "learn_lm.save(\"lm-final\")"
   ]
  },
  {
   "cell_type": "code",
   "execution_count": null,
   "metadata": {},
   "outputs": [],
   "source": [
    "learn_lm.save_encoder('lm-encoder')"
   ]
  },
  {
   "cell_type": "code",
   "execution_count": null,
   "metadata": {},
   "outputs": [],
   "source": [
    "learn_lm.export()"
   ]
  },
  {
   "cell_type": "markdown",
   "metadata": {},
   "source": [
    "## Generating Quotes and Images"
   ]
  },
  {
   "cell_type": "code",
   "execution_count": null,
   "metadata": {},
   "outputs": [],
   "source": [
    "def generatequote():    \n",
    "    quotes = []\n",
    "    while quotes==[]:\n",
    "        idea = learn_lm.predict(\"xxbos\", n_words=24, temperature=0.75)\n",
    "        ideas = idea.split(\"xxbos\")\n",
    "        if ideas[1][-1] == \"”\":\n",
    "            quotes.append(ideas[1])\n",
    "            \n",
    "    message = quotes[0][:]\n",
    "    message = '“'+message[3:].capitalize()\n",
    "    message = message.replace(' . ','. ')\n",
    "    message = message.replace(' ,',',')\n",
    "    message = message.replace('’',\"'\")\n",
    "    message = message.replace(\"do n't\", \"don't\")\n",
    "    message = message.replace(\"does n't\", \"doesn't\")\n",
    "    message = message.replace(\"ca n't\", \"can't\")\n",
    "    message = message.replace(\"we 're\", \"we're\")\n",
    "    message = message.replace(\" 's\", \"'s\")\n",
    "    message = message.replace(\" 've\", \"'ve\")\n",
    "    message = message.replace(\"you 're\", \"you're\")\n",
    "    spell = Speller()\n",
    "    message = spell(message)\n",
    "    msg.good(\"Message\")\n",
    "    return message[:-2]+'”'"
   ]
  },
  {
   "cell_type": "code",
   "execution_count": null,
   "metadata": {},
   "outputs": [],
   "source": [
    "def text2image(imageFile,font,quote):\n",
    "    \n",
    "    font = ImageFont.truetype(font, 75)\n",
    "\n",
    "    para = textwrap.wrap(quote, width=42)\n",
    "\n",
    "    MAX_W, MAX_H = 1080, 1080\n",
    "\n",
    "    im = Image.open(imageFile).convert('RGBA')\n",
    "\n",
    "    poly = Image.new('RGBA', (MAX_W,MAX_H))\n",
    "    polydraw = ImageDraw.Draw(poly)\n",
    "\n",
    "    polydraw.rectangle([(0,0),(MAX_W,MAX_H)], fill=(0,0,0,66), outline=None)\n",
    "    \n",
    "    im.paste(poly,mask=poly)\n",
    "\n",
    "    draw = ImageDraw.Draw(im)\n",
    "\n",
    "    current_h, pad = 405, 10\n",
    "\n",
    "    for line in para:\n",
    "        w, h = draw.textsize(line, font=font)\n",
    "        draw.text(((MAX_W - w) / 2, current_h), line, font=font)\n",
    "        current_h += h + pad\n",
    "        \n",
    "    current_h3, pad3 = 675, 10\n",
    "    sitelink = \"@SARII_bot\"\n",
    "    w, h = draw.textsize(sitelink, font=font)\n",
    "    draw.text(((MAX_W - w) / 2, current_h3), sitelink, font=font)\n",
    "    current_h3 += h + pad3\n",
    "\n",
    "    plt.imshow(np.asarray(im))\n",
    "    name = list(quote.split())[1:5]\n",
    "    newfilename = \"\".join(name)+\".png\"\n",
    "    finalpath = \"generated/\"+newfilename\n",
    "    im.save(finalpath)\n",
    "    msg.good(\"Image Saved\")\n",
    "    return(finalpath)"
   ]
  },
  {
   "cell_type": "code",
   "execution_count": null,
   "metadata": {},
   "outputs": [],
   "source": [
    "def downloadimage(key):\n",
    "    imagepath = urllib.request.urlretrieve('https://source.unsplash.com/1080x1080/?'+str(key),\"temp.jpg\")[0]\n",
    "    msg.good(\"Image Downloaded\")\n",
    "    return imagepath"
   ]
  },
  {
   "cell_type": "code",
   "execution_count": null,
   "metadata": {},
   "outputs": [],
   "source": [
    "def selectfont():\n",
    "    fonts = []\n",
    "    os.chdir(\"fonts\")\n",
    "    for file in glob.glob(\"*.ttf\"):\n",
    "        fonts.append(\"fonts/\"+file)\n",
    "    os.chdir(\"..\")\n",
    "    msg.good(\"Font selected\")\n",
    "    return random.choice(fonts)"
   ]
  },
  {
   "cell_type": "markdown",
   "metadata": {},
   "source": [
    "# Extracting keys for image search"
   ]
  },
  {
   "cell_type": "code",
   "execution_count": null,
   "metadata": {},
   "outputs": [],
   "source": [
    "!python -m spacy validate"
   ]
  },
  {
   "cell_type": "code",
   "execution_count": null,
   "metadata": {},
   "outputs": [],
   "source": [
    "import en_core_web_md"
   ]
  },
  {
   "cell_type": "code",
   "execution_count": null,
   "metadata": {},
   "outputs": [],
   "source": [
    "nlp = en_core_web_md.load()"
   ]
  },
  {
   "cell_type": "code",
   "execution_count": null,
   "metadata": {},
   "outputs": [],
   "source": [
    "def get_key(text):\n",
    "    result = []\n",
    "    pos_tag = ['PROPN', 'ADJ', 'NOUN'] # 1\n",
    "    doc = nlp(text.lower()) # 2\n",
    "    for token in doc:\n",
    "        # 3\n",
    "        if(token.text in nlp.Defaults.stop_words or token.text in punctuation):\n",
    "            continue\n",
    "        # 4\n",
    "        if(token.pos_ in pos_tag):\n",
    "            result.append(token.text)\n",
    "    msg.good(\"Keys Extracted\")\n",
    "    return list(set(result)) # 5"
   ]
  },
  {
   "cell_type": "code",
   "execution_count": null,
   "metadata": {},
   "outputs": [],
   "source": [
    "message = generatequote()\n",
    "print(message)\n",
    "key = get_key(message)[0]\n",
    "print(key)"
   ]
  },
  {
   "cell_type": "markdown",
   "metadata": {},
   "source": [
    "# Result"
   ]
  },
  {
   "cell_type": "code",
   "execution_count": null,
   "metadata": {},
   "outputs": [],
   "source": [
    "def generate(): \n",
    "    print('')\n",
    "    message = generatequote()\n",
    "    try:\n",
    "        keys = get_key(message)[:3]\n",
    "        key = 'landscapes'\n",
    "    except:\n",
    "        msg.fail(\"Unable to retrieve key\")\n",
    "    imagepath = downloadimage(key)\n",
    "    selectedfont = selectfont() \n",
    "    restultimage = text2image(imagepath,selectedfont,message)\n",
    "    print('')\n",
    "    msg.good(\"Done!\")\n",
    "    print('')\n",
    "    msg.info(\"Image key: \"+key)\n",
    "    msg.info(\"Selected font: \"+selectedfont)\n",
    "    msg.info(\"Image path: \"+restultimage)\n",
    "    print('')\n",
    "    print(message+' - #SARII #AI '+''.join(['#'+str(i.capitalize())+' ' for i in keys]))\n",
    "    print('')"
   ]
  },
  {
   "cell_type": "code",
   "execution_count": null,
   "metadata": {},
   "outputs": [],
   "source": [
    "!rm -R generated && mkdir generated"
   ]
  },
  {
   "cell_type": "code",
   "execution_count": null,
   "metadata": {},
   "outputs": [],
   "source": [
    "generate()"
   ]
  },
  {
   "cell_type": "code",
   "execution_count": null,
   "metadata": {},
   "outputs": [],
   "source": []
  }
 ],
 "metadata": {
  "kernelspec": {
   "display_name": "Python 3",
   "language": "python",
   "name": "python3"
  },
  "language_info": {
   "codemirror_mode": {
    "name": "ipython",
    "version": 3
   },
   "file_extension": ".py",
   "mimetype": "text/x-python",
   "name": "python",
   "nbconvert_exporter": "python",
   "pygments_lexer": "ipython3",
   "version": "3.7.6"
  }
 },
 "nbformat": 4,
 "nbformat_minor": 4
}
