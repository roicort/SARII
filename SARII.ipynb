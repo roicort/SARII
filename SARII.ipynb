{
 "cells": [
  {
   "cell_type": "markdown",
   "metadata": {},
   "source": [
    "# SARII"
   ]
  },
  {
   "cell_type": "code",
   "execution_count": 1,
   "metadata": {},
   "outputs": [],
   "source": [
    "%matplotlib inline\n",
    "%reload_ext autoreload\n",
    "%autoreload 2"
   ]
  },
  {
   "cell_type": "code",
   "execution_count": 2,
   "metadata": {},
   "outputs": [],
   "source": [
    "import fastai.basics as fai\n",
    "import fastai.text as ftxt\n",
    "import pandas as pd\n",
    "import numpy as np"
   ]
  },
  {
   "cell_type": "code",
   "execution_count": 3,
   "metadata": {},
   "outputs": [],
   "source": [
    "import PIL\n",
    "import textwrap\n",
    "from PIL import ImageFont\n",
    "from PIL import Image\n",
    "from PIL import ImageDraw"
   ]
  },
  {
   "cell_type": "code",
   "execution_count": 5,
   "metadata": {},
   "outputs": [],
   "source": [
    "import random\n",
    "import os\n",
    "import glob\n",
    "from google_images_download import google_images_download\n",
    "import matplotlib.pyplot as plt"
   ]
  },
  {
   "cell_type": "markdown",
   "metadata": {},
   "source": [
    "## Data"
   ]
  },
  {
   "cell_type": "code",
   "execution_count": 6,
   "metadata": {},
   "outputs": [],
   "source": [
    "df = pd.read_csv('data/allquotes.csv',header=None, names=['quote', 'author'])\n",
    "df = df.drop(['author'], axis=1)\n",
    "df = df.dropna()"
   ]
  },
  {
   "cell_type": "code",
   "execution_count": 7,
   "metadata": {},
   "outputs": [
    {
     "data": {
      "text/html": [
       "<div>\n",
       "<style scoped>\n",
       "    .dataframe tbody tr th:only-of-type {\n",
       "        vertical-align: middle;\n",
       "    }\n",
       "\n",
       "    .dataframe tbody tr th {\n",
       "        vertical-align: top;\n",
       "    }\n",
       "\n",
       "    .dataframe thead th {\n",
       "        text-align: right;\n",
       "    }\n",
       "</style>\n",
       "<table border=\"1\" class=\"dataframe\">\n",
       "  <thead>\n",
       "    <tr style=\"text-align: right;\">\n",
       "      <th></th>\n",
       "      <th>quote</th>\n",
       "    </tr>\n",
       "  </thead>\n",
       "  <tbody>\n",
       "    <tr>\n",
       "      <th>0</th>\n",
       "      <td>“Do one thing every day that scares you.”</td>\n",
       "    </tr>\n",
       "    <tr>\n",
       "      <th>1</th>\n",
       "      <td>“We are what we pretend to be, so we must be c...</td>\n",
       "    </tr>\n",
       "    <tr>\n",
       "      <th>2</th>\n",
       "      <td>“When we love, we always strive to become bett...</td>\n",
       "    </tr>\n",
       "    <tr>\n",
       "      <th>3</th>\n",
       "      <td>“Sometimes you wake up. Sometimes the fall kil...</td>\n",
       "    </tr>\n",
       "    <tr>\n",
       "      <th>4</th>\n",
       "      <td>“Hold fast to dreams,For if dreams dieLife is ...</td>\n",
       "    </tr>\n",
       "  </tbody>\n",
       "</table>\n",
       "</div>"
      ],
      "text/plain": [
       "                                               quote\n",
       "0          “Do one thing every day that scares you.”\n",
       "1  “We are what we pretend to be, so we must be c...\n",
       "2  “When we love, we always strive to become bett...\n",
       "3  “Sometimes you wake up. Sometimes the fall kil...\n",
       "4  “Hold fast to dreams,For if dreams dieLife is ..."
      ]
     },
     "execution_count": 7,
     "metadata": {},
     "output_type": "execute_result"
    }
   ],
   "source": [
    "df.head()"
   ]
  },
  {
   "cell_type": "code",
   "execution_count": 8,
   "metadata": {},
   "outputs": [],
   "source": [
    "df['quote'] = df['quote'].str.lower()"
   ]
  },
  {
   "cell_type": "code",
   "execution_count": 9,
   "metadata": {},
   "outputs": [
    {
     "data": {
      "text/html": [
       "<div>\n",
       "<style scoped>\n",
       "    .dataframe tbody tr th:only-of-type {\n",
       "        vertical-align: middle;\n",
       "    }\n",
       "\n",
       "    .dataframe tbody tr th {\n",
       "        vertical-align: top;\n",
       "    }\n",
       "\n",
       "    .dataframe thead th {\n",
       "        text-align: right;\n",
       "    }\n",
       "</style>\n",
       "<table border=\"1\" class=\"dataframe\">\n",
       "  <thead>\n",
       "    <tr style=\"text-align: right;\">\n",
       "      <th></th>\n",
       "      <th>quote</th>\n",
       "    </tr>\n",
       "  </thead>\n",
       "  <tbody>\n",
       "    <tr>\n",
       "      <th>0</th>\n",
       "      <td>“do one thing every day that scares you.”</td>\n",
       "    </tr>\n",
       "    <tr>\n",
       "      <th>1</th>\n",
       "      <td>“we are what we pretend to be, so we must be c...</td>\n",
       "    </tr>\n",
       "    <tr>\n",
       "      <th>2</th>\n",
       "      <td>“when we love, we always strive to become bett...</td>\n",
       "    </tr>\n",
       "    <tr>\n",
       "      <th>3</th>\n",
       "      <td>“sometimes you wake up. sometimes the fall kil...</td>\n",
       "    </tr>\n",
       "    <tr>\n",
       "      <th>4</th>\n",
       "      <td>“hold fast to dreams,for if dreams dielife is ...</td>\n",
       "    </tr>\n",
       "  </tbody>\n",
       "</table>\n",
       "</div>"
      ],
      "text/plain": [
       "                                               quote\n",
       "0          “do one thing every day that scares you.”\n",
       "1  “we are what we pretend to be, so we must be c...\n",
       "2  “when we love, we always strive to become bett...\n",
       "3  “sometimes you wake up. sometimes the fall kil...\n",
       "4  “hold fast to dreams,for if dreams dielife is ..."
      ]
     },
     "execution_count": 9,
     "metadata": {},
     "output_type": "execute_result"
    }
   ],
   "source": [
    "df.head()"
   ]
  },
  {
   "cell_type": "code",
   "execution_count": 10,
   "metadata": {},
   "outputs": [],
   "source": [
    "valid_pct = 0.1 #validation percent\n",
    "df = df.iloc[np.random.permutation(len(df))]\n",
    "cut = int(valid_pct * len(df)) + 1\n",
    "train_df, valid_df = df[cut:], df[:cut]"
   ]
  },
  {
   "cell_type": "code",
   "execution_count": 11,
   "metadata": {},
   "outputs": [
    {
     "data": {
      "text/plain": [
       "(10883, 1210)"
      ]
     },
     "execution_count": 11,
     "metadata": {},
     "output_type": "execute_result"
    }
   ],
   "source": [
    "len(train_df), len(valid_df)"
   ]
  },
  {
   "cell_type": "code",
   "execution_count": 12,
   "metadata": {},
   "outputs": [],
   "source": [
    "data_lm = ftxt.TextLMDataBunch.from_df('data', train_df, valid_df, text_cols='quote')"
   ]
  },
  {
   "cell_type": "markdown",
   "metadata": {},
   "source": [
    "## Langueaje Model"
   ]
  },
  {
   "cell_type": "code",
   "execution_count": 13,
   "metadata": {},
   "outputs": [],
   "source": [
    "learn_lm = ftxt.language_model_learner(data_lm, ftxt.AWD_LSTM)"
   ]
  },
  {
   "cell_type": "code",
   "execution_count": 14,
   "metadata": {},
   "outputs": [
    {
     "data": {
      "text/html": [],
      "text/plain": [
       "<IPython.core.display.HTML object>"
      ]
     },
     "metadata": {},
     "output_type": "display_data"
    },
    {
     "name": "stdout",
     "output_type": "stream",
     "text": [
      "LR Finder is complete, type {learner_name}.recorder.plot() to see the graph.\n"
     ]
    },
    {
     "data": {
      "image/png": "[encoded data removed]",
      "text/plain": [
       "<Figure size 432x288 with 1 Axes>"
      ]
     },
     "metadata": {
      "needs_background": "light"
     },
     "output_type": "display_data"
    }
   ],
   "source": [
    "learn_lm.lr_find(); learn_lm.recorder.plot(skip_end=15)"
   ]
  },
  {
   "cell_type": "code",
   "execution_count": 15,
   "metadata": {},
   "outputs": [
    {
     "data": {
      "text/html": [
       "<table border=\"1\" class=\"dataframe\">\n",
       "  <thead>\n",
       "    <tr style=\"text-align: left;\">\n",
       "      <th>epoch</th>\n",
       "      <th>train_loss</th>\n",
       "      <th>valid_loss</th>\n",
       "      <th>accuracy</th>\n",
       "      <th>time</th>\n",
       "    </tr>\n",
       "  </thead>\n",
       "  <tbody>\n",
       "    <tr>\n",
       "      <td>0</td>\n",
       "      <td>5.601491</td>\n",
       "      <td>4.732169</td>\n",
       "      <td>0.216696</td>\n",
       "      <td>00:08</td>\n",
       "    </tr>\n",
       "    <tr>\n",
       "      <td>1</td>\n",
       "      <td>5.160850</td>\n",
       "      <td>4.153465</td>\n",
       "      <td>0.262679</td>\n",
       "      <td>00:08</td>\n",
       "    </tr>\n",
       "    <tr>\n",
       "      <td>2</td>\n",
       "      <td>4.676903</td>\n",
       "      <td>3.886120</td>\n",
       "      <td>0.301161</td>\n",
       "      <td>00:08</td>\n",
       "    </tr>\n",
       "    <tr>\n",
       "      <td>3</td>\n",
       "      <td>4.409472</td>\n",
       "      <td>3.807175</td>\n",
       "      <td>0.306228</td>\n",
       "      <td>00:08</td>\n",
       "    </tr>\n",
       "    <tr>\n",
       "      <td>4</td>\n",
       "      <td>4.242657</td>\n",
       "      <td>3.768859</td>\n",
       "      <td>0.308170</td>\n",
       "      <td>00:08</td>\n",
       "    </tr>\n",
       "    <tr>\n",
       "      <td>5</td>\n",
       "      <td>4.144249</td>\n",
       "      <td>3.746437</td>\n",
       "      <td>0.309442</td>\n",
       "      <td>00:08</td>\n",
       "    </tr>\n",
       "    <tr>\n",
       "      <td>6</td>\n",
       "      <td>4.058526</td>\n",
       "      <td>3.725384</td>\n",
       "      <td>0.313728</td>\n",
       "      <td>00:08</td>\n",
       "    </tr>\n",
       "    <tr>\n",
       "      <td>7</td>\n",
       "      <td>3.977828</td>\n",
       "      <td>3.709979</td>\n",
       "      <td>0.314598</td>\n",
       "      <td>00:08</td>\n",
       "    </tr>\n",
       "    <tr>\n",
       "      <td>8</td>\n",
       "      <td>3.915846</td>\n",
       "      <td>3.693551</td>\n",
       "      <td>0.316696</td>\n",
       "      <td>00:08</td>\n",
       "    </tr>\n",
       "    <tr>\n",
       "      <td>9</td>\n",
       "      <td>3.867001</td>\n",
       "      <td>3.682978</td>\n",
       "      <td>0.318147</td>\n",
       "      <td>00:08</td>\n",
       "    </tr>\n",
       "    <tr>\n",
       "      <td>10</td>\n",
       "      <td>3.820937</td>\n",
       "      <td>3.673423</td>\n",
       "      <td>0.321116</td>\n",
       "      <td>00:08</td>\n",
       "    </tr>\n",
       "    <tr>\n",
       "      <td>11</td>\n",
       "      <td>3.775110</td>\n",
       "      <td>3.667094</td>\n",
       "      <td>0.322812</td>\n",
       "      <td>00:08</td>\n",
       "    </tr>\n",
       "    <tr>\n",
       "      <td>12</td>\n",
       "      <td>3.734321</td>\n",
       "      <td>3.655535</td>\n",
       "      <td>0.324196</td>\n",
       "      <td>00:08</td>\n",
       "    </tr>\n",
       "    <tr>\n",
       "      <td>13</td>\n",
       "      <td>3.708163</td>\n",
       "      <td>3.652167</td>\n",
       "      <td>0.323772</td>\n",
       "      <td>00:08</td>\n",
       "    </tr>\n",
       "    <tr>\n",
       "      <td>14</td>\n",
       "      <td>3.675094</td>\n",
       "      <td>3.645877</td>\n",
       "      <td>0.326317</td>\n",
       "      <td>00:08</td>\n",
       "    </tr>\n",
       "    <tr>\n",
       "      <td>15</td>\n",
       "      <td>3.650435</td>\n",
       "      <td>3.641763</td>\n",
       "      <td>0.327098</td>\n",
       "      <td>00:08</td>\n",
       "    </tr>\n",
       "    <tr>\n",
       "      <td>16</td>\n",
       "      <td>3.624241</td>\n",
       "      <td>3.639587</td>\n",
       "      <td>0.326339</td>\n",
       "      <td>00:08</td>\n",
       "    </tr>\n",
       "    <tr>\n",
       "      <td>17</td>\n",
       "      <td>3.611676</td>\n",
       "      <td>3.638555</td>\n",
       "      <td>0.327366</td>\n",
       "      <td>00:08</td>\n",
       "    </tr>\n",
       "    <tr>\n",
       "      <td>18</td>\n",
       "      <td>3.606871</td>\n",
       "      <td>3.637297</td>\n",
       "      <td>0.327455</td>\n",
       "      <td>00:08</td>\n",
       "    </tr>\n",
       "    <tr>\n",
       "      <td>19</td>\n",
       "      <td>3.601370</td>\n",
       "      <td>3.636550</td>\n",
       "      <td>0.327589</td>\n",
       "      <td>00:08</td>\n",
       "    </tr>\n",
       "  </tbody>\n",
       "</table>"
      ],
      "text/plain": [
       "<IPython.core.display.HTML object>"
      ]
     },
     "metadata": {},
     "output_type": "display_data"
    }
   ],
   "source": [
    "learn_lm.fit_one_cycle(20, 1e-2, moms=(0.8,0.7))"
   ]
  },
  {
   "cell_type": "code",
   "execution_count": 16,
   "metadata": {},
   "outputs": [],
   "source": [
    "learn_lm.save(\"lm-31\")"
   ]
  },
  {
   "cell_type": "code",
   "execution_count": 17,
   "metadata": {},
   "outputs": [],
   "source": [
    "learn_lm.save_encoder('lm-31-encoder')"
   ]
  },
  {
   "cell_type": "code",
   "execution_count": 18,
   "metadata": {},
   "outputs": [],
   "source": [
    "learn_lm.unfreeze()"
   ]
  },
  {
   "cell_type": "code",
   "execution_count": 19,
   "metadata": {},
   "outputs": [
    {
     "data": {
      "text/html": [],
      "text/plain": [
       "<IPython.core.display.HTML object>"
      ]
     },
     "metadata": {},
     "output_type": "display_data"
    },
    {
     "name": "stdout",
     "output_type": "stream",
     "text": [
      "LR Finder is complete, type {learner_name}.recorder.plot() to see the graph.\n"
     ]
    },
    {
     "data": {
      "image/png": "[encoded data removed]",
      "text/plain": [
       "<Figure size 432x288 with 1 Axes>"
      ]
     },
     "metadata": {
      "needs_background": "light"
     },
     "output_type": "display_data"
    }
   ],
   "source": [
    "learn_lm.lr_find(); learn_lm.recorder.plot(skip_end=15)"
   ]
  },
  {
   "cell_type": "code",
   "execution_count": 20,
   "metadata": {},
   "outputs": [
    {
     "data": {
      "text/html": [
       "<table border=\"1\" class=\"dataframe\">\n",
       "  <thead>\n",
       "    <tr style=\"text-align: left;\">\n",
       "      <th>epoch</th>\n",
       "      <th>train_loss</th>\n",
       "      <th>valid_loss</th>\n",
       "      <th>accuracy</th>\n",
       "      <th>time</th>\n",
       "    </tr>\n",
       "  </thead>\n",
       "  <tbody>\n",
       "    <tr>\n",
       "      <td>0</td>\n",
       "      <td>3.565772</td>\n",
       "      <td>3.632028</td>\n",
       "      <td>0.328795</td>\n",
       "      <td>00:10</td>\n",
       "    </tr>\n",
       "    <tr>\n",
       "      <td>1</td>\n",
       "      <td>3.546981</td>\n",
       "      <td>3.618408</td>\n",
       "      <td>0.330960</td>\n",
       "      <td>00:10</td>\n",
       "    </tr>\n",
       "    <tr>\n",
       "      <td>2</td>\n",
       "      <td>3.530112</td>\n",
       "      <td>3.612081</td>\n",
       "      <td>0.331696</td>\n",
       "      <td>00:10</td>\n",
       "    </tr>\n",
       "    <tr>\n",
       "      <td>3</td>\n",
       "      <td>3.505076</td>\n",
       "      <td>3.607649</td>\n",
       "      <td>0.331652</td>\n",
       "      <td>00:10</td>\n",
       "    </tr>\n",
       "    <tr>\n",
       "      <td>4</td>\n",
       "      <td>3.489362</td>\n",
       "      <td>3.606425</td>\n",
       "      <td>0.332433</td>\n",
       "      <td>00:10</td>\n",
       "    </tr>\n",
       "  </tbody>\n",
       "</table>"
      ],
      "text/plain": [
       "<IPython.core.display.HTML object>"
      ]
     },
     "metadata": {},
     "output_type": "display_data"
    }
   ],
   "source": [
    "learn_lm.fit_one_cycle(5, 1e-4, moms=(0.8,0.7))"
   ]
  },
  {
   "cell_type": "markdown",
   "metadata": {},
   "source": [
    "## Validate and Save"
   ]
  },
  {
   "cell_type": "code",
   "execution_count": 21,
   "metadata": {},
   "outputs": [
    {
     "data": {
      "text/plain": [
       "[3.6054502, tensor(0.3329)]"
      ]
     },
     "execution_count": 21,
     "metadata": {},
     "output_type": "execute_result"
    }
   ],
   "source": [
    "learn_lm.validate()"
   ]
  },
  {
   "cell_type": "code",
   "execution_count": 22,
   "metadata": {},
   "outputs": [],
   "source": [
    "learn_lm.save(\"lm-final\")"
   ]
  },
  {
   "cell_type": "code",
   "execution_count": 23,
   "metadata": {},
   "outputs": [],
   "source": [
    "learn_lm.save_encoder('lm-encoder')"
   ]
  },
  {
   "cell_type": "code",
   "execution_count": 24,
   "metadata": {},
   "outputs": [],
   "source": [
    "learn_lm.export()"
   ]
  },
  {
   "cell_type": "markdown",
   "metadata": {},
   "source": [
    "## Generating Quotes and Images"
   ]
  },
  {
   "cell_type": "code",
   "execution_count": 25,
   "metadata": {},
   "outputs": [],
   "source": [
    "def generatequote():    \n",
    "    quotes = []\n",
    "    while quotes==[]:\n",
    "        idea = learn_lm.predict(\"xxbos\", n_words=20, temperature=0.75)\n",
    "        ideas = idea.split(\"xxbos\")\n",
    "        if ideas[1][-1] == \"”\":\n",
    "            quotes.append(ideas[1])\n",
    "            \n",
    "    message = quotes[0][:]\n",
    "    message = '“'+message[3:].capitalize()\n",
    "    message = message.replace(' . ','.')\n",
    "    message = message.replace(' ,',',')\n",
    "    message = message.replace(\"do n't\", \"don't\")\n",
    "    message = message.replace(\"ca n't\", \"can't\")\n",
    "    message = message.replace(\"we 're\", \"we're\")\n",
    "    message = message.replace(\" ’s\", \"’s\")\n",
    "    message = message.replace(\" 've\", \"'ve\")\n",
    "    \n",
    "    return message"
   ]
  },
  {
   "cell_type": "code",
   "execution_count": 26,
   "metadata": {},
   "outputs": [],
   "source": [
    "def text2image(imageFile,font,quote):\n",
    "    \n",
    "    font = ImageFont.truetype(font, 50)\n",
    "\n",
    "    para = textwrap.wrap(quote, width=40)\n",
    "\n",
    "    MAX_W, MAX_H = 1080, 1080\n",
    "\n",
    "    im = Image.open(imageFile).convert('RGBA')\n",
    "\n",
    "    im = im.resize((1080, 1080), Image.ANTIALIAS)\n",
    "\n",
    "    poly = Image.new('RGBA', (1080,1080))\n",
    "    polydraw = ImageDraw.Draw(poly)\n",
    "\n",
    "    polydraw.rectangle([(0,0),(1080,1080)], fill=(0,0,0,50), outline=None)\n",
    "    \n",
    "    im.paste(poly,mask=poly)\n",
    "\n",
    "    draw = ImageDraw.Draw(im)\n",
    "\n",
    "    current_h, pad = 400, 10\n",
    "\n",
    "    for line in para:\n",
    "        w, h = draw.textsize(line, font=font)\n",
    "        draw.text(((MAX_W - w) / 2, current_h), line, font=font)\n",
    "        current_h += h + pad\n",
    "    \"\"\"\n",
    "    current_h2, pad2 = 900, 80\n",
    "    currentauthor = authors[idx]\n",
    "    w, h = draw.textsize(currentauthor, font=authorfont)\n",
    "    draw.text(((MAX_W - w) / 2, (current_h + 100)), currentauthor, font=authorfont)\n",
    "    current_h2 += h + pad2\n",
    "    \"\"\"\n",
    "    current_h3, pad3 = 700, 10\n",
    "    sitelink = \"@SARII\"\n",
    "    w, h = draw.textsize(sitelink, font=font)\n",
    "    draw.text(((MAX_W - w) / 2, current_h3), sitelink, font=font)\n",
    "    current_h3 += h + pad3\n",
    "\n",
    "    plt.imshow(np.asarray(im))\n",
    "    newfilename = \"%d.png\" %np.random.randint(0,100)\n",
    "    finalpath = \"generated/\"+newfilename\n",
    "    im.save(finalpath)\n",
    "    return(finalpath)"
   ]
  },
  {
   "cell_type": "code",
   "execution_count": 27,
   "metadata": {},
   "outputs": [],
   "source": [
    "def downloadimage(key):\n",
    "    response = google_images_download.googleimagesdownload()   #class instantiation\n",
    "\n",
    "    key = key +\" \"+ str(np.random.randint(0,100))\n",
    "\n",
    "    arguments = {\"keywords\":key,\"limit\":1,\"print_urls\":False,\"silent_mode\":True,\"size\":\"large\",\"format\":\"jpg\"}   #creating list of arguments\n",
    "    paths = response.download(arguments)   #passing the arguments to the function\n",
    "    imagepath=paths[0][key][0]\n",
    "    \n",
    "    return imagepath"
   ]
  },
  {
   "cell_type": "code",
   "execution_count": 28,
   "metadata": {},
   "outputs": [],
   "source": [
    "def selectfont():\n",
    "    fonts = []\n",
    "    os.chdir(\"fonts\")\n",
    "    for file in glob.glob(\"*.ttf\"):\n",
    "        fonts.append(\"fonts/\"+file)\n",
    "    os.chdir(\"..\")\n",
    "    return random.choice(fonts)"
   ]
  },
  {
   "cell_type": "markdown",
   "metadata": {},
   "source": [
    "Generate text and image"
   ]
  },
  {
   "cell_type": "code",
   "execution_count": 30,
   "metadata": {},
   "outputs": [
    {
     "name": "stdout",
     "output_type": "stream",
     "text": [
      "Downloading images for: landscape  48 ...\n",
      "fonts/Champagne & Limousines.ttf\n",
      "\n",
      "\n",
      "generated/19.png\n",
      "\n",
      "\n",
      "“The ability to be driven by a steady devotion to your life is not a constant revolution.”\n",
      "\n",
      "\n"
     ]
    },
    {
     "data": {
      "image/png": "[encoded data removed]",
      "text/plain": [
       "<Figure size 432x288 with 1 Axes>"
      ]
     },
     "metadata": {
      "needs_background": "light"
     },
     "output_type": "display_data"
    }
   ],
   "source": [
    "message = generatequote()\n",
    "\n",
    "imagepath = downloadimage(\"landscape \")\n",
    "\n",
    "selectedfont = selectfont()\n",
    "    \n",
    "restultimage = text2image(imagepath,selectedfont,message)\n",
    "\n",
    "print(selectedfont)\n",
    "print(\"\\n\")\n",
    "print(restultimage)\n",
    "print(\"\\n\")\n",
    "print(message)\n",
    "print(\"\\n\")\n"
   ]
  },
  {
   "cell_type": "code",
   "execution_count": null,
   "metadata": {},
   "outputs": [],
   "source": []
  },
  {
   "cell_type": "code",
   "execution_count": null,
   "metadata": {},
   "outputs": [],
   "source": []
  }
 ],
 "metadata": {
  "kernelspec": {
   "display_name": "Python 3",
   "language": "python",
   "name": "python3"
  },
  "language_info": {
   "codemirror_mode": {
    "name": "ipython",
    "version": 3
   },
   "file_extension": ".py",
   "mimetype": "text/x-python",
   "name": "python",
   "nbconvert_exporter": "python",
   "pygments_lexer": "ipython3",
   "version": "3.6.8"
  }
 },
 "nbformat": 4,
 "nbformat_minor": 2
}
